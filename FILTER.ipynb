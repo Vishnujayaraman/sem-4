{
 "cells": [
  {
   "cell_type": "code",
   "execution_count": 1,
   "id": "703e413f",
   "metadata": {},
   "outputs": [],
   "source": [
    "import cv2 as cv\n",
    "import matplotlib.pyplot as plt\n",
    "import numpy as np"
   ]
  },
  {
   "cell_type": "code",
   "execution_count": 2,
   "id": "dfad2a9d",
   "metadata": {},
   "outputs": [],
   "source": [
    "read=cv.imread(\"C:/Users/SN139/Downloads/trees.jpg\")\n",
    "kernal=np.ones((3,3),np.float32)/20\n",
    "filter=cv.filter2D(read,-1,kernal)\n",
    "cv.imshow(\"image\",read)\n",
    "cv.imshow(\"filter2D\",filter)\n",
    "cv.waitKey(0)\n",
    "cv.destroyAllWindows()\n"
   ]
  },
  {
   "cell_type": "markdown",
   "id": "9f363447",
   "metadata": {},
   "source": [
    "# BLURING"
   ]
  },
  {
   "cell_type": "code",
   "execution_count": 3,
   "id": "21b69dcc",
   "metadata": {},
   "outputs": [],
   "source": [
    "a=cv.imread(\"C:/Users/SN139/Downloads/blur.jfif\")\n",
    "blur=cv.blur(a,(10,10))\n",
    "cv.imshow(\"image\",a)\n",
    "cv.imshow(\"BLUR\",blur)\n",
    "cv.waitKey(0)\n",
    "cv.destroyAllWindows()\n"
   ]
  },
  {
   "cell_type": "markdown",
   "id": "ad8b23b2",
   "metadata": {},
   "source": [
    "# GAUSSIAN BLUR"
   ]
  },
  {
   "cell_type": "code",
   "execution_count": 4,
   "id": "9aa23c71",
   "metadata": {},
   "outputs": [],
   "source": [
    "b=cv.imread(\"C:/Users/SN139/Downloads/blur.jfif\")\n",
    "gauss_blur=cv.GaussianBlur(b,(5,5),0)\n",
    "cv.imshow(\"GAUSSIAN BLUR\",gauss_blur)\n",
    "cv.imshow(\"image\",b)\n",
    "cv.waitKey(0)\n",
    "cv.destroyAllWindows()\n"
   ]
  },
  {
   "cell_type": "markdown",
   "id": "9f2fa0a8",
   "metadata": {},
   "source": [
    "# BILATERALFILTER"
   ]
  },
  {
   "cell_type": "code",
   "execution_count": 13,
   "id": "857567b0",
   "metadata": {},
   "outputs": [],
   "source": [
    "b=cv.imread(\"C:/Users/SN139/Downloads/blur.jfif\")\n",
    "bi_Filter=cv.bilateralFilter(b,9,60,60)\n",
    "cv.imshow(\"bilateralFilterBlur\",bi_Filter)\n",
    "cv.imshow(\"image\",b)\n",
    "cv.waitKey(0)\n",
    "cv.destroyAllWindows()\n"
   ]
  },
  {
   "cell_type": "markdown",
   "id": "09575367",
   "metadata": {},
   "source": [
    "# MEDIANFILTER"
   ]
  },
  {
   "cell_type": "code",
   "execution_count": 17,
   "id": "25c93b68",
   "metadata": {},
   "outputs": [],
   "source": [
    "b=cv.imread(\"C:/Users/SN139/Downloads/blur.jfif\")\n",
    "me_fil=cv.medianBlur(b,5)\n",
    "cv.imshow(\"median\",me_fil)\n",
    "cv.imshow(\"GAUSSIAN BLUR\",gauss_blur)\n",
    "cv.imshow(\"bilateralFilterBlur\",bi_Filter)\n",
    "cv.imshow(\"BLUR\",blur)\n",
    "cv.imshow(\"image\",b)\n",
    "cv.waitKey(0)\n",
    "cv.destroyAllWindows()\n"
   ]
  },
  {
   "cell_type": "code",
   "execution_count": null,
   "id": "64d2657f",
   "metadata": {},
   "outputs": [],
   "source": []
  }
 ],
 "metadata": {
  "kernelspec": {
   "display_name": "Python 3 (ipykernel)",
   "language": "python",
   "name": "python3"
  },
  "language_info": {
   "codemirror_mode": {
    "name": "ipython",
    "version": 3
   },
   "file_extension": ".py",
   "mimetype": "text/x-python",
   "name": "python",
   "nbconvert_exporter": "python",
   "pygments_lexer": "ipython3",
   "version": "3.11.5"
  }
 },
 "nbformat": 4,
 "nbformat_minor": 5
}
