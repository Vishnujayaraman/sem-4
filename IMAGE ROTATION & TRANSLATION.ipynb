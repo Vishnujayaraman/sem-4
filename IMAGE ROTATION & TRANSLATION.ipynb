{
 "cells": [
  {
   "cell_type": "code",
   "execution_count": 1,
   "id": "07a41ea5",
   "metadata": {},
   "outputs": [],
   "source": [
    "import cv2 \n",
    "import numpy as np"
   ]
  },
  {
   "cell_type": "code",
   "execution_count": 2,
   "id": "7b42d0c3",
   "metadata": {},
   "outputs": [],
   "source": [
    "a=cv2.imread(\"C:/Users/admin/Downloads/img4.jpg\")"
   ]
  },
  {
   "cell_type": "code",
   "execution_count": 3,
   "id": "e88343bc",
   "metadata": {},
   "outputs": [
    {
     "data": {
      "text/plain": [
       "array([[[206, 198, 191],\n",
       "        [206, 198, 191],\n",
       "        [206, 198, 191],\n",
       "        ...,\n",
       "        [223, 218, 217],\n",
       "        [223, 218, 217],\n",
       "        [223, 218, 217]],\n",
       "\n",
       "       [[206, 198, 191],\n",
       "        [206, 198, 191],\n",
       "        [206, 198, 191],\n",
       "        ...,\n",
       "        [223, 218, 217],\n",
       "        [223, 218, 217],\n",
       "        [223, 218, 217]],\n",
       "\n",
       "       [[206, 198, 191],\n",
       "        [206, 198, 191],\n",
       "        [206, 198, 191],\n",
       "        ...,\n",
       "        [223, 218, 217],\n",
       "        [223, 218, 217],\n",
       "        [223, 218, 217]],\n",
       "\n",
       "       ...,\n",
       "\n",
       "       [[194, 185, 176],\n",
       "        [194, 185, 176],\n",
       "        [194, 185, 176],\n",
       "        ...,\n",
       "        [174, 158, 146],\n",
       "        [174, 158, 146],\n",
       "        [174, 158, 146]],\n",
       "\n",
       "       [[194, 185, 176],\n",
       "        [194, 185, 176],\n",
       "        [194, 185, 176],\n",
       "        ...,\n",
       "        [174, 158, 146],\n",
       "        [174, 158, 146],\n",
       "        [174, 158, 146]],\n",
       "\n",
       "       [[194, 185, 176],\n",
       "        [194, 185, 176],\n",
       "        [194, 185, 176],\n",
       "        ...,\n",
       "        [174, 158, 146],\n",
       "        [174, 158, 146],\n",
       "        [174, 158, 146]]], dtype=uint8)"
      ]
     },
     "execution_count": 3,
     "metadata": {},
     "output_type": "execute_result"
    }
   ],
   "source": [
    "a\n"
   ]
  },
  {
   "cell_type": "code",
   "execution_count": 4,
   "id": "e3a62237",
   "metadata": {},
   "outputs": [],
   "source": [
    "shape=a.shape"
   ]
  },
  {
   "cell_type": "code",
   "execution_count": 5,
   "id": "29a2a98d",
   "metadata": {},
   "outputs": [
    {
     "data": {
      "text/plain": [
       "(612, 612, 3)"
      ]
     },
     "execution_count": 5,
     "metadata": {},
     "output_type": "execute_result"
    }
   ],
   "source": [
    "shape"
   ]
  },
  {
   "cell_type": "code",
   "execution_count": 6,
   "id": "c4fe3797",
   "metadata": {},
   "outputs": [
    {
     "name": "stdout",
     "output_type": "stream",
     "text": [
      "612\n",
      "612\n"
     ]
    }
   ],
   "source": [
    "height,width=a.shape[:2]\n",
    "print(height)\n",
    "print(width)"
   ]
  },
  {
   "cell_type": "code",
   "execution_count": 7,
   "id": "99a562e4",
   "metadata": {},
   "outputs": [
    {
     "data": {
      "text/plain": [
       "(306.0, 306.0)"
      ]
     },
     "execution_count": 7,
     "metadata": {},
     "output_type": "execute_result"
    }
   ],
   "source": [
    "c=(height/2,width/2)\n",
    "c"
   ]
  },
  {
   "cell_type": "code",
   "execution_count": 8,
   "id": "434a4d04",
   "metadata": {},
   "outputs": [],
   "source": [
    "#Rotation matrix\n",
    "rm=cv2.getRotationMatrix2D(center=c,angle=180,scale=0.6)"
   ]
  },
  {
   "cell_type": "code",
   "execution_count": 9,
   "id": "81463f04",
   "metadata": {},
   "outputs": [
    {
     "data": {
      "text/plain": [
       "array([[-6.00000000e-01,  7.34788079e-17,  4.89600000e+02],\n",
       "       [-7.34788079e-17, -6.00000000e-01,  4.89600000e+02]])"
      ]
     },
     "execution_count": 9,
     "metadata": {},
     "output_type": "execute_result"
    }
   ],
   "source": [
    "rm"
   ]
  },
  {
   "cell_type": "code",
   "execution_count": 10,
   "id": "77c848a2",
   "metadata": {},
   "outputs": [],
   "source": [
    "#Rotated image\n",
    "ri=cv2.warpAffine(src=a,M=rm,dsize=(width, height))"
   ]
  },
  {
   "cell_type": "code",
   "execution_count": 17,
   "id": "eeb23edb",
   "metadata": {},
   "outputs": [],
   "source": [
    "cv2.imshow(\"Original image\",a)\n",
    "cv2.waitKey(0)\n",
    "cv2.imshow(\"Rotated image\",ri)\n",
    "cv2.waitKey(0)\n",
    "cv2.destroyAllWindows()"
   ]
  },
  {
   "cell_type": "markdown",
   "id": "b5b3a2c3",
   "metadata": {},
   "source": [
    "# TRANSLATION MATRIX\n",
    "\n"
   ]
  },
  {
   "cell_type": "code",
   "execution_count": 18,
   "id": "1382286d",
   "metadata": {},
   "outputs": [],
   "source": [
    "tx,ty=width/2,height/2"
   ]
  },
  {
   "cell_type": "code",
   "execution_count": 19,
   "id": "e125de8e",
   "metadata": {},
   "outputs": [],
   "source": [
    "#Translation Matrix\n",
    "tm=np.array([[1,0,tx],[0,1,ty]])\n"
   ]
  },
  {
   "cell_type": "code",
   "execution_count": 20,
   "id": "31950785",
   "metadata": {},
   "outputs": [
    {
     "data": {
      "text/plain": [
       "array([[  1.,   0., 306.],\n",
       "       [  0.,   1., 306.]])"
      ]
     },
     "execution_count": 20,
     "metadata": {},
     "output_type": "execute_result"
    }
   ],
   "source": [
    "tm"
   ]
  },
  {
   "cell_type": "code",
   "execution_count": 21,
   "id": "363e9d34",
   "metadata": {},
   "outputs": [],
   "source": [
    "ti=cv2.warpAffine(src=a,M=tm,dsize=(width, height))"
   ]
  },
  {
   "cell_type": "code",
   "execution_count": 22,
   "id": "e2668ea9",
   "metadata": {},
   "outputs": [],
   "source": [
    "cv2.imshow(\"Original image\",a)\n",
    "cv2.waitKey(0)\n",
    "cv2.imshow(\"Translation image\",ti)\n",
    "cv2.waitKey(0)\n",
    "cv2.destroyAllWindows()"
   ]
  },
  {
   "cell_type": "code",
   "execution_count": null,
   "id": "b5fa10d5",
   "metadata": {},
   "outputs": [],
   "source": []
  }
 ],
 "metadata": {
  "kernelspec": {
   "display_name": "Python 3 (ipykernel)",
   "language": "python",
   "name": "python3"
  },
  "language_info": {
   "codemirror_mode": {
    "name": "ipython",
    "version": 3
   },
   "file_extension": ".py",
   "mimetype": "text/x-python",
   "name": "python",
   "nbconvert_exporter": "python",
   "pygments_lexer": "ipython3",
   "version": "3.9.18"
  }
 },
 "nbformat": 4,
 "nbformat_minor": 5
}
