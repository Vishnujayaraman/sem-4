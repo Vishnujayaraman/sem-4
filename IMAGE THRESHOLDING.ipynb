{
 "cells": [
  {
   "cell_type": "code",
   "execution_count": 1,
   "id": "2a207ecd",
   "metadata": {},
   "outputs": [],
   "source": [
    "import cv2\n",
    "import numpy as np"
   ]
  },
  {
   "cell_type": "code",
   "execution_count": 2,
   "id": "c6f68261",
   "metadata": {},
   "outputs": [],
   "source": [
    "a=cv2.imread(\"C:/Users/vishnu/Pictures/Screenshots/img9.jpeg\",0)"
   ]
  },
  {
   "cell_type": "code",
   "execution_count": 3,
   "id": "8d18bf49",
   "metadata": {},
   "outputs": [],
   "source": [
    "cv2.imshow(\"img9\",a)\n",
    "cv2.waitKey(0)\n",
    "cv2.destroyAllWindows()"
   ]
  },
  {
   "cell_type": "code",
   "execution_count": 4,
   "id": "1e4efcc3",
   "metadata": {},
   "outputs": [
    {
     "data": {
      "text/plain": [
       "array([[107, 107, 107, ...,  62,  62,  62],\n",
       "       [107, 107, 107, ...,  62,  62,  62],\n",
       "       [107, 107, 107, ...,  62,  62,  62],\n",
       "       ...,\n",
       "       [114, 125, 130, ..., 183, 183, 183],\n",
       "       [128, 132, 132, ..., 182, 182, 182],\n",
       "       [127, 121, 118, ..., 172, 172, 172]], dtype=uint8)"
      ]
     },
     "execution_count": 4,
     "metadata": {},
     "output_type": "execute_result"
    }
   ],
   "source": [
    "a"
   ]
  },
  {
   "cell_type": "code",
   "execution_count": 5,
   "id": "afa56858",
   "metadata": {},
   "outputs": [],
   "source": [
    "ret,thres=cv2.threshold(a,11,100,cv2.THRESH_BINARY)"
   ]
  },
  {
   "cell_type": "code",
   "execution_count": 6,
   "id": "ee0a9f38",
   "metadata": {},
   "outputs": [
    {
     "name": "stdout",
     "output_type": "stream",
     "text": [
      "11.0\n"
     ]
    }
   ],
   "source": [
    "print(ret)"
   ]
  },
  {
   "cell_type": "code",
   "execution_count": 7,
   "id": "f5c59750",
   "metadata": {},
   "outputs": [],
   "source": [
    "cv2.imshow(\"img\",thres)\n",
    "cv2.waitKey(0)\n",
    "cv2.destroyAllWindows()"
   ]
  },
  {
   "cell_type": "code",
   "execution_count": 8,
   "id": "fa5f756a",
   "metadata": {},
   "outputs": [
    {
     "data": {
      "text/plain": [
       "array([[100, 100, 100, ..., 100, 100, 100],\n",
       "       [100, 100, 100, ..., 100, 100, 100],\n",
       "       [100, 100, 100, ..., 100, 100, 100],\n",
       "       ...,\n",
       "       [100, 100, 100, ..., 100, 100, 100],\n",
       "       [100, 100, 100, ..., 100, 100, 100],\n",
       "       [100, 100, 100, ..., 100, 100, 100]], dtype=uint8)"
      ]
     },
     "execution_count": 8,
     "metadata": {},
     "output_type": "execute_result"
    }
   ],
   "source": [
    "thres"
   ]
  },
  {
   "cell_type": "raw",
   "id": "284b74e9",
   "metadata": {},
   "source": [
    "# syntax:\n",
    "    ret,varname=cv2.threshold(inputimage,threshold,limit,replace value,<threshold type>)"
   ]
  },
  {
   "cell_type": "code",
   "execution_count": 18,
   "id": "0d049831",
   "metadata": {},
   "outputs": [],
   "source": [
    "ret,thres1=cv2.threshold(a,86,256,cv2.THRESH_BINARY)\n",
    "ret,thres2=cv2.threshold(a,86,256,cv2.THRESH_BINARY_INV)\n",
    "ret,thres3=cv2.threshold(a,86,256,cv2.THRESH_TRUNC)\n",
    "ret,thres4=cv2.threshold(a,86,256,cv2.THRESH_TOZERO)\n",
    "ret,thres5=cv2.threshold(a,86,256,cv2.THRESH_TOZERO_INV)"
   ]
  },
  {
   "cell_type": "code",
   "execution_count": 19,
   "id": "4d2713eb",
   "metadata": {},
   "outputs": [
    {
     "data": {
      "text/plain": [
       "array([[255, 255, 255, ...,   0,   0,   0],\n",
       "       [255, 255, 255, ...,   0,   0,   0],\n",
       "       [255, 255, 255, ...,   0,   0,   0],\n",
       "       ...,\n",
       "       [255, 255, 255, ..., 255, 255, 255],\n",
       "       [255, 255, 255, ..., 255, 255, 255],\n",
       "       [255, 255, 255, ..., 255, 255, 255]], dtype=uint8)"
      ]
     },
     "execution_count": 19,
     "metadata": {},
     "output_type": "execute_result"
    }
   ],
   "source": [
    "thres1"
   ]
  },
  {
   "cell_type": "code",
   "execution_count": 20,
   "id": "1f7440f7",
   "metadata": {},
   "outputs": [
    {
     "data": {
      "text/plain": [
       "array([[  0,   0,   0, ..., 255, 255, 255],\n",
       "       [  0,   0,   0, ..., 255, 255, 255],\n",
       "       [  0,   0,   0, ..., 255, 255, 255],\n",
       "       ...,\n",
       "       [  0,   0,   0, ...,   0,   0,   0],\n",
       "       [  0,   0,   0, ...,   0,   0,   0],\n",
       "       [  0,   0,   0, ...,   0,   0,   0]], dtype=uint8)"
      ]
     },
     "execution_count": 20,
     "metadata": {},
     "output_type": "execute_result"
    }
   ],
   "source": [
    "thres2"
   ]
  },
  {
   "cell_type": "code",
   "execution_count": 21,
   "id": "63f6bc12",
   "metadata": {},
   "outputs": [
    {
     "data": {
      "text/plain": [
       "array([[86, 86, 86, ..., 62, 62, 62],\n",
       "       [86, 86, 86, ..., 62, 62, 62],\n",
       "       [86, 86, 86, ..., 62, 62, 62],\n",
       "       ...,\n",
       "       [86, 86, 86, ..., 86, 86, 86],\n",
       "       [86, 86, 86, ..., 86, 86, 86],\n",
       "       [86, 86, 86, ..., 86, 86, 86]], dtype=uint8)"
      ]
     },
     "execution_count": 21,
     "metadata": {},
     "output_type": "execute_result"
    }
   ],
   "source": [
    "thres3\n"
   ]
  },
  {
   "cell_type": "code",
   "execution_count": 22,
   "id": "8d5a9260",
   "metadata": {},
   "outputs": [
    {
     "data": {
      "text/plain": [
       "array([[107, 107, 107, ...,   0,   0,   0],\n",
       "       [107, 107, 107, ...,   0,   0,   0],\n",
       "       [107, 107, 107, ...,   0,   0,   0],\n",
       "       ...,\n",
       "       [114, 125, 130, ..., 183, 183, 183],\n",
       "       [128, 132, 132, ..., 182, 182, 182],\n",
       "       [127, 121, 118, ..., 172, 172, 172]], dtype=uint8)"
      ]
     },
     "execution_count": 22,
     "metadata": {},
     "output_type": "execute_result"
    }
   ],
   "source": [
    "thres4"
   ]
  },
  {
   "cell_type": "code",
   "execution_count": 23,
   "id": "26279efb",
   "metadata": {},
   "outputs": [
    {
     "data": {
      "text/plain": [
       "array([[ 0,  0,  0, ..., 62, 62, 62],\n",
       "       [ 0,  0,  0, ..., 62, 62, 62],\n",
       "       [ 0,  0,  0, ..., 62, 62, 62],\n",
       "       ...,\n",
       "       [ 0,  0,  0, ...,  0,  0,  0],\n",
       "       [ 0,  0,  0, ...,  0,  0,  0],\n",
       "       [ 0,  0,  0, ...,  0,  0,  0]], dtype=uint8)"
      ]
     },
     "execution_count": 23,
     "metadata": {},
     "output_type": "execute_result"
    }
   ],
   "source": [
    "thres5"
   ]
  },
  {
   "cell_type": "code",
   "execution_count": 26,
   "id": "be57044b",
   "metadata": {},
   "outputs": [],
   "source": [
    "cv2.imshow(\"img1\",thres1)\n",
    "cv2.waitKey(0)\n",
    "cv2.imshow(\"img2\",thres2)\n",
    "cv2.waitKey(0)\n",
    "cv2.imshow(\"img3\",thres3)\n",
    "cv2.waitKey(0)\n",
    "cv2.imshow(\"img4\",thres4)\n",
    "cv2.waitKey(0)\n",
    "cv2.imshow(\"img5\",thres5)\n",
    "cv2.waitKey(0)\n",
    "cv2.destroyAllWindows()"
   ]
  },
  {
   "cell_type": "code",
   "execution_count": null,
   "id": "69ba0620",
   "metadata": {},
   "outputs": [],
   "source": []
  }
 ],
 "metadata": {
  "kernelspec": {
   "display_name": "Python 3 (ipykernel)",
   "language": "python",
   "name": "python3"
  },
  "language_info": {
   "codemirror_mode": {
    "name": "ipython",
    "version": 3
   },
   "file_extension": ".py",
   "mimetype": "text/x-python",
   "name": "python",
   "nbconvert_exporter": "python",
   "pygments_lexer": "ipython3",
   "version": "3.11.5"
  }
 },
 "nbformat": 4,
 "nbformat_minor": 5
}
