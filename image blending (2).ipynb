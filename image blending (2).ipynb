{
 "cells": [
  {
   "cell_type": "code",
   "execution_count": 1,
   "id": "6bfbda66",
   "metadata": {},
   "outputs": [],
   "source": [
    "import cv2\n",
    "import numpy as np"
   ]
  },
  {
   "cell_type": "code",
   "execution_count": 2,
   "id": "c19f4b11",
   "metadata": {},
   "outputs": [],
   "source": [
    "a=cv2.imread(\"C:/Users/vishnu/Pictures/Screenshots/img3.png\")\n",
    "b=cv2.imread(\"C:/Users/vishnu/Pictures/Screenshots/img6.png\")\n",
    "c=cv2.imread(\"C:/Users/vishnu/Pictures/Screenshots/img9.jpeg\")"
   ]
  },
  {
   "cell_type": "code",
   "execution_count": 3,
   "id": "3961fa7f",
   "metadata": {},
   "outputs": [],
   "source": [
    "cv2.imshow(\"img3\",a)\n",
    "cv2.imshow(\"img6\",b)\n",
    "cv2.waitKey(5)\n",
    "cv2.destroyAllWindows()"
   ]
  },
  {
   "cell_type": "code",
   "execution_count": 4,
   "id": "b981a9cd",
   "metadata": {},
   "outputs": [],
   "source": [
    "blend=cv2.addWeighted(a,0.5,b,0.3,0)"
   ]
  },
  {
   "cell_type": "code",
   "execution_count": 5,
   "id": "4f08ffb4",
   "metadata": {},
   "outputs": [],
   "source": [
    "cv2.imshow(\"blend\",blend)\n",
    "cv2.imshow(\"img1\",a)\n",
    "cv2.imshow(\"img2\",b)\n",
    "cv2.waitKey(1)\n",
    "cv2.destroyAllWindows()"
   ]
  },
  {
   "cell_type": "code",
   "execution_count": 6,
   "id": "37a3d8db",
   "metadata": {},
   "outputs": [],
   "source": [
    "sub=cv2.subtract(a,b)"
   ]
  },
  {
   "cell_type": "code",
   "execution_count": 7,
   "id": "19ea0e67",
   "metadata": {},
   "outputs": [],
   "source": [
    "cv2.imshow(\"sub\",sub)\n",
    "cv2.waitKey(0)\n",
    "cv2.destroyAllWindows()"
   ]
  },
  {
   "cell_type": "code",
   "execution_count": 8,
   "id": "e3e3197a",
   "metadata": {},
   "outputs": [],
   "source": [
    "AND=cv2.bitwise_and(a,b)\n",
    "OR=cv2.bitwise_or(a,b)\n",
    "NOT=cv2.bitwise_not(a,b)\n",
    "XOR=cv2.bitwise_xor(a,b)"
   ]
  },
  {
   "cell_type": "code",
   "execution_count": 9,
   "id": "f4325602",
   "metadata": {},
   "outputs": [
    {
     "data": {
      "text/plain": [
       "-1"
      ]
     },
     "execution_count": 9,
     "metadata": {},
     "output_type": "execute_result"
    }
   ],
   "source": [
    "cv2.imshow(\"and\",AND)\n",
    "cv2.waitKey(0)\n",
    "cv2.imshow(\"or\",OR)\n",
    "cv2.waitKey(0)\n",
    "cv2.imshow(\"not\",NOT)\n",
    "cv2.waitKey(0)\n",
    "cv2.imshow(\"xor\",XOR)\n",
    "cv2.waitKey(0)"
   ]
  },
  {
   "cell_type": "code",
   "execution_count": 10,
   "id": "298be611",
   "metadata": {},
   "outputs": [],
   "source": [
    "NOR=cv2.bitwise_not(OR)"
   ]
  },
  {
   "cell_type": "code",
   "execution_count": 11,
   "id": "43e107c7",
   "metadata": {},
   "outputs": [],
   "source": [
    "cv2.imshow(\"nor\",NOT)\n",
    "cv2.waitKey(0)\n",
    "cv2.destroyAllWindows()"
   ]
  },
  {
   "cell_type": "code",
   "execution_count": 12,
   "id": "485aebf2",
   "metadata": {},
   "outputs": [],
   "source": [
    "roi=c[10:220,50:150]"
   ]
  },
  {
   "cell_type": "code",
   "execution_count": 13,
   "id": "cc7513c3",
   "metadata": {},
   "outputs": [],
   "source": [
    "cv2.imshow(\"ROI\",roi)\n",
    "cv2.waitKey(0)\n",
    "cv2.destroyAllWindows()"
   ]
  },
  {
   "cell_type": "code",
   "execution_count": null,
   "id": "35d0a697",
   "metadata": {},
   "outputs": [],
   "source": []
  }
 ],
 "metadata": {
  "kernelspec": {
   "display_name": "Python 3 (ipykernel)",
   "language": "python",
   "name": "python3"
  },
  "language_info": {
   "codemirror_mode": {
    "name": "ipython",
    "version": 3
   },
   "file_extension": ".py",
   "mimetype": "text/x-python",
   "name": "python",
   "nbconvert_exporter": "python",
   "pygments_lexer": "ipython3",
   "version": "3.11.5"
  }
 },
 "nbformat": 4,
 "nbformat_minor": 5
}
