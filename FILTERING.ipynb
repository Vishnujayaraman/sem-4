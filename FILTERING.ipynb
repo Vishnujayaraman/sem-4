{
 "cells": [
  {
   "cell_type": "code",
   "execution_count": 3,
   "id": "80ee0732",
   "metadata": {},
   "outputs": [],
   "source": [
    "import cv2 as cv\n",
    "import matplotlib.pyplot as plt \n",
    "import numpy as np"
   ]
  },
  {
   "cell_type": "code",
   "execution_count": null,
   "id": "86db9121",
   "metadata": {},
   "outputs": [],
   "source": [
    "img=cv.imread(\"tree.jpg\")\n",
    "kernal=np.ones((3,3),np.float32)/9\n",
    "filter=cv.filter2D(img,-1,kernal)\n",
    "cv.imshow(\"image\",img)\n",
    "cv.imshow(\"filter2d\",filter)\n",
    "cv.waitKey(0)\n",
    "cv.destroyAllWindows()"
   ]
  },
  {
   "cell_type": "markdown",
   "id": "2144a6a7",
   "metadata": {},
   "source": [
    "# bluring"
   ]
  },
  {
   "cell_type": "code",
   "execution_count": null,
   "id": "e3738cba",
   "metadata": {},
   "outputs": [],
   "source": [
    "img=cv.imread(\"tree.jpg\")\n",
    "blur=cv.blur(img,(5,5))\n",
    "cv.imshow(\"image\",img)\n",
    "cv.imshow(\"blur\",blur)\n",
    "cv.waitKey(0)\n",
    "cv.destroyAllWindows()"
   ]
  },
  {
   "cell_type": "markdown",
   "id": "0a6751ba",
   "metadata": {},
   "source": [
    "# Gaussian Blur"
   ]
  },
  {
   "cell_type": "code",
   "execution_count": null,
   "id": "76745a83",
   "metadata": {},
   "outputs": [],
   "source": [
    "img=cv.imread(\"noise.jpeg\")\n",
    "Gblur=cv.GaussianBlur(img,(5,5),0)\n",
    "cv.imshow(\"image\",img)\n",
    "cv.imshow(\"Gaussianblur\",Gblur)\n",
    "cv.waitKey(0)\n",
    "cv.destroyAllWindows()"
   ]
  },
  {
   "cell_type": "markdown",
   "id": "4d0cee6c",
   "metadata": {},
   "source": [
    "# Bilateral Filter"
   ]
  },
  {
   "cell_type": "code",
   "execution_count": null,
   "id": "b56ab8c5",
   "metadata": {},
   "outputs": [],
   "source": [
    "img=cv.imread(\"noise.jpeg\")\n",
    "bFilter=cv.bilateralFilter(img,10,20,20)\n",
    "cv.imshow(\"image\",img)\n",
    "cv.imshow(\"bilateralFilter\",bFilter)\n",
    "cv.waitKey(0)\n",
    "cv.destroyAllWindows()"
   ]
  },
  {
   "cell_type": "markdown",
   "id": "7504fd88",
   "metadata": {},
   "source": [
    "# median Filters"
   ]
  },
  {
   "cell_type": "code",
   "execution_count": null,
   "id": "65dbeb8e",
   "metadata": {},
   "outputs": [],
   "source": [
    "img=cv.imread(\"salt1.jpg\")\n",
    "m=cv.medianBlur(img,5)\n",
    "cv.imshow(\"image\",img)\n",
    "cv.imshow(\"mideanFilter\",m)\n",
    "cv.waitKey(0)\n",
    "cv.destroyAllWindows()"
   ]
  },
  {
   "cell_type": "markdown",
   "id": "1f2b8623",
   "metadata": {},
   "source": [
    "# Laplacian Filter"
   ]
  },
  {
   "cell_type": "code",
   "execution_count": null,
   "id": "46e685d4",
   "metadata": {},
   "outputs": [],
   "source": [
    "img=cv.imread(\"noise.jpeg\",0)\n",
    "lap=cv.Laplacian(img,cv.CV_64F,ksize=3)\n",
    "cv.imshow('image',img)\n",
    "cv.imshow('laplacian',lap)\n",
    "cv.waitKey(0)\n",
    "cv.destroyAllWindows()"
   ]
  },
  {
   "cell_type": "markdown",
   "id": "806b93c7",
   "metadata": {},
   "source": [
    "# Sobel Filter"
   ]
  },
  {
   "cell_type": "code",
   "execution_count": 5,
   "id": "45bd1532",
   "metadata": {},
   "outputs": [
    {
     "name": "stdout",
     "output_type": "stream",
     "text": [
      "[[   0.   16.  -22. ...    0.    0.    0.]\n",
      " [   0.    5.  -36. ...    0.    0.    0.]\n",
      " [   0.    7.  -36. ...    0.    0.    0.]\n",
      " ...\n",
      " [   0.   -9.   -9. ...  150.  173.    0.]\n",
      " [   0.   -8.   -9. ...  -18.  -74.    0.]\n",
      " [   0.   -2.   -4. ... -176.  -12.    0.]]\n"
     ]
    }
   ],
   "source": [
    "img=cv.imread(\"noise.jpeg\",0)\n",
    "sobelx=cv.Sobel(img,cv.CV_32F,1,0,ksize=3)\n",
    "print(sobelx)\n",
    "cv.imshow('image',img)\n",
    "cv.imshow(\"sobelx\",sobelx)\n",
    "cv.waitKey(0)\n",
    "cv.destroyAllWindows()"
   ]
  },
  {
   "cell_type": "code",
   "execution_count": 10,
   "id": "ff260415",
   "metadata": {},
   "outputs": [
    {
     "name": "stdout",
     "output_type": "stream",
     "text": [
      "[[   0.    0.    0. ...    0.    0.    0.]\n",
      " [  48.   37.   12. ...    0.    0.    0.]\n",
      " [ -30.  -17.   10. ...    0.    0.    0.]\n",
      " ...\n",
      " [   4.   -1.  -11. ...  490.  171. -138.]\n",
      " [ -22.  -16.   -5. ... -208. -304. -242.]\n",
      " [   0.    0.    0. ...    0.    0.    0.]]\n"
     ]
    }
   ],
   "source": [
    "img=cv.imread(\"noise.jpeg\",0)\n",
    "sobely=cv.Sobel(img,cv.CV_32F,0,1,ksize=3)\n",
    "print(sobely)\n",
    "cv.imshow('image',img)\n",
    "cv.imshow(\"sobely\",sobely)\n",
    "cv.waitKey(0)\n",
    "cv.destroyAllWindows()"
   ]
  },
  {
   "cell_type": "code",
   "execution_count": null,
   "id": "2778e7c0",
   "metadata": {},
   "outputs": [],
   "source": []
  }
 ],
 "metadata": {
  "kernelspec": {
   "display_name": "Python 3 (ipykernel)",
   "language": "python",
   "name": "python3"
  },
  "language_info": {
   "codemirror_mode": {
    "name": "ipython",
    "version": 3
   },
   "file_extension": ".py",
   "mimetype": "text/x-python",
   "name": "python",
   "nbconvert_exporter": "python",
   "pygments_lexer": "ipython3",
   "version": "3.9.13"
  }
 },
 "nbformat": 4,
 "nbformat_minor": 5
}
